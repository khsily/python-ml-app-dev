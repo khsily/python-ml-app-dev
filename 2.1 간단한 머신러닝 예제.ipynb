{
 "cells": [
  {
   "cell_type": "markdown",
   "metadata": {},
   "source": [
    "# 2. 간단한 머신러닝 예제"
   ]
  },
  {
   "cell_type": "markdown",
   "metadata": {},
   "source": [
    "상황에 맞는 알고리즘을 사용해야함. (아래 그림 참조)\n",
    "\n",
    "<img style=\"float: left; width: 90%;\" src=\"images/markdown/python_ml_cheatsheet.png\" />"
   ]
  },
  {
   "cell_type": "markdown",
   "metadata": {},
   "source": [
    "### AND 연산 - LinearSVC (p.43)"
   ]
  },
  {
   "cell_type": "code",
   "execution_count": 14,
   "metadata": {},
   "outputs": [],
   "source": [
    "from sklearn.svm import LinearSVC\n",
    "from sklearn.metrics import accuracy_score"
   ]
  },
  {
   "cell_type": "code",
   "execution_count": 15,
   "metadata": {},
   "outputs": [
    {
     "name": "stdout",
     "output_type": "stream",
     "text": [
      "[[0, 0], [1, 0], [0, 1], [1, 1]] 의 예측 결과 :  [0 0 0 1]\n",
      "정답률 =  1.0\n"
     ]
    }
   ],
   "source": [
    "learn_data = [[0, 0], [1, 0], [0, 1], [1, 1]]\n",
    "learn_label = [0, 0, 0, 1]\n",
    "\n",
    "# 알고리즘 지정\n",
    "clf = LinearSVC()\n",
    "\n",
    "# 학습 전용 데이터와 결과 학습\n",
    "clf.fit(learn_data, learn_label)\n",
    "\n",
    "# 테스트 데이터로 예측하기\n",
    "test_data = [[0, 0], [1, 0], [0, 1], [1, 1]]\n",
    "test_label = clf.predict(test_data)\n",
    "\n",
    "# 예측 결과 평가하기\n",
    "print(test_data, \"의 예측 결과 : \", test_label)\n",
    "print(\"정답률 = \", accuracy_score([0, 0, 0, 1], test_label))"
   ]
  },
  {
   "cell_type": "markdown",
   "metadata": {},
   "source": [
    "### XOR 연산 (p.46)"
   ]
  },
  {
   "cell_type": "markdown",
   "metadata": {},
   "source": [
    "XOR 연산에서는 비선형이므로 선형 학습에 특화된 LinearSVC 알고리즘을 사용하기에 적합하지 않음.\n",
    "\n",
    "(아래 코드를 통해 정답률이 현저히 떨어진다는것을 확인 가능)"
   ]
  },
  {
   "cell_type": "code",
   "execution_count": 21,
   "metadata": {},
   "outputs": [
    {
     "name": "stdout",
     "output_type": "stream",
     "text": [
      "[[0, 0], [1, 0], [0, 1], [1, 1]] 의 예측 결과 :  [0 0 0 1]\n",
      "정답률 =  0.25\n"
     ]
    }
   ],
   "source": [
    "learn_data = [[0, 0], [1, 0], [0, 1], [1, 1]]\n",
    "learn_label = [0, 1, 1, 0]\n",
    "\n",
    "# 알고리즘 지정\n",
    "clf = LinearSVC()\n",
    "\n",
    "# 학습 전용 데이터와 결과 학습\n",
    "clf.fit(learn_data, learn_label)\n",
    "\n",
    "# 테스트 데이터로 예측하기\n",
    "test_data = [[0, 0], [1, 0], [0, 1], [1, 1]]\n",
    "test_label = clf.predict(test_data)\n",
    "\n",
    "# 예측 결과 평가하기\n",
    "print(test_data, \"의 예측 결과 : \", test_label)\n",
    "print(\"정답률 = \", accuracy_score([0, 1, 1, 0], test_label))"
   ]
  },
  {
   "cell_type": "markdown",
   "metadata": {},
   "source": [
    "따라서 알고리즘 치트시트를 참고하여 KNeighbors Classfier 알고리즘 사용\n",
    "\n",
    "[LinearSVC] -> NOT WORKING -> [Text Data] -> NO -> [KNeighbors Classfier]"
   ]
  },
  {
   "cell_type": "code",
   "execution_count": 23,
   "metadata": {},
   "outputs": [],
   "source": [
    "from sklearn.neighbors import KNeighborsClassifier"
   ]
  },
  {
   "cell_type": "code",
   "execution_count": 25,
   "metadata": {},
   "outputs": [
    {
     "name": "stdout",
     "output_type": "stream",
     "text": [
      "[[0, 0], [1, 0], [0, 1], [1, 1]] 의 예측 결과 :  [0 1 1 0]\n",
      "정답률 =  1.0\n"
     ]
    }
   ],
   "source": [
    "learn_data = [[0, 0], [1, 0], [0, 1], [1, 1]]\n",
    "learn_label = [0, 1, 1, 0]\n",
    "\n",
    "# 알고리즘 지정\n",
    "clf = KNeighborsClassifier(n_neighbors=1)\n",
    "\n",
    "# 학습 전용 데이터와 결과 학습\n",
    "clf.fit(learn_data, learn_label)\n",
    "\n",
    "# 테스트 데이터로 예측하기\n",
    "test_data = [[0, 0], [1, 0], [0, 1], [1, 1]]\n",
    "test_label = clf.predict(test_data)\n",
    "\n",
    "# 예측 결과 평가하기\n",
    "print(test_data, \"의 예측 결과 : \", test_label)\n",
    "print(\"정답률 = \", accuracy_score([0, 1, 1, 0], test_label))"
   ]
  },
  {
   "cell_type": "code",
   "execution_count": null,
   "metadata": {},
   "outputs": [],
   "source": []
  }
 ],
 "metadata": {
  "kernelspec": {
   "display_name": "Python 3",
   "language": "python",
   "name": "python3"
  },
  "language_info": {
   "codemirror_mode": {
    "name": "ipython",
    "version": 3
   },
   "file_extension": ".py",
   "mimetype": "text/x-python",
   "name": "python",
   "nbconvert_exporter": "python",
   "pygments_lexer": "ipython3",
   "version": "3.7.3"
  }
 },
 "nbformat": 4,
 "nbformat_minor": 2
}
